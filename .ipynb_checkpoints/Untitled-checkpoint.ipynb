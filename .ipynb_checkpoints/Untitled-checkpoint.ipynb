{
 "cells": [
  {
   "cell_type": "code",
   "execution_count": 2,
   "metadata": {
    "collapsed": false
   },
   "outputs": [],
   "source": [
    "from support_functions import *"
   ]
  },
  {
   "cell_type": "code",
   "execution_count": 1,
   "metadata": {
    "collapsed": false
   },
   "outputs": [
    {
     "ename": "NameError",
     "evalue": "name 'read_data' is not defined",
     "output_type": "error",
     "traceback": [
      "\u001b[0;31m---------------------------------------------------------------------------\u001b[0m",
      "\u001b[0;31mNameError\u001b[0m                                 Traceback (most recent call last)",
      "\u001b[0;32m<ipython-input-1-c5e2b798fa09>\u001b[0m in \u001b[0;36m<module>\u001b[0;34m()\u001b[0m\n\u001b[1;32m      3\u001b[0m \u001b[0;34m\u001b[0m\u001b[0m\n\u001b[1;32m      4\u001b[0m \u001b[0mcols\u001b[0m \u001b[0;34m=\u001b[0m \u001b[0;34m[\u001b[0m\u001b[0;36m0\u001b[0m\u001b[0;34m,\u001b[0m\u001b[0;36m9\u001b[0m\u001b[0;34m]\u001b[0m\u001b[0;34m\u001b[0m\u001b[0m\n\u001b[0;32m----> 5\u001b[0;31m \u001b[0mdata\u001b[0m \u001b[0;34m=\u001b[0m \u001b[0mread_data\u001b[0m\u001b[0;34m(\u001b[0m\u001b[0mfname\u001b[0m\u001b[0;34m,\u001b[0m \u001b[0mcols\u001b[0m\u001b[0;34m)\u001b[0m\u001b[0;34m\u001b[0m\u001b[0m\n\u001b[0m",
      "\u001b[0;31mNameError\u001b[0m: name 'read_data' is not defined"
     ]
    }
   ],
   "source": [
    "fname = '/hdd/work/wall-mounted-cube/hByDelta-0.6/medium-slip'\n",
    "fname = fname + '/postProcessing/force-left-side/0/force.dat'\n",
    "\n",
    "cols = [0,9]\n",
    "data = read_data(fname, cols)"
   ]
  },
  {
   "cell_type": "code",
   "execution_count": 47,
   "metadata": {
    "collapsed": false
   },
   "outputs": [
    {
     "data": {
      "text/plain": [
       "(2, 66244)"
      ]
     },
     "execution_count": 47,
     "metadata": {},
     "output_type": "execute_result"
    }
   ],
   "source": [
    "data.shape"
   ]
  },
  {
   "cell_type": "code",
   "execution_count": 5,
   "metadata": {
    "collapsed": true
   },
   "outputs": [],
   "source": [
    "import pandas as pd"
   ]
  },
  {
   "cell_type": "code",
   "execution_count": 6,
   "metadata": {
    "collapsed": true
   },
   "outputs": [],
   "source": [
    "a = pd.read_csv(fname, skiprows=4)"
   ]
  },
  {
   "cell_type": "code",
   "execution_count": 7,
   "metadata": {
    "collapsed": false
   },
   "outputs": [
    {
     "data": {
      "text/html": [
       "<div>\n",
       "<table border=\"1\" class=\"dataframe\">\n",
       "  <thead>\n",
       "    <tr style=\"text-align: right;\">\n",
       "      <th></th>\n",
       "      <th>1.000000e+00\t(-2.832621e-07 2.294410e-07 -5.339440e-05)\t(0.000000e+00 0.000000e+00 -5.340638e-05)\t(-2.832621e-07 2.294410e-07 1.197941e-08)</th>\n",
       "    </tr>\n",
       "  </thead>\n",
       "  <tbody>\n",
       "    <tr>\n",
       "      <th>0</th>\n",
       "      <td>1.000006e+00\\t(-2.828075e-07 2.288889e-07 -5.3...</td>\n",
       "    </tr>\n",
       "    <tr>\n",
       "      <th>1</th>\n",
       "      <td>1.000012e+00\\t(-2.826530e-07 2.281649e-07 -5.3...</td>\n",
       "    </tr>\n",
       "    <tr>\n",
       "      <th>2</th>\n",
       "      <td>1.000018e+00\\t(-2.823385e-07 2.277862e-07 -5.3...</td>\n",
       "    </tr>\n",
       "    <tr>\n",
       "      <th>3</th>\n",
       "      <td>1.000025e+00\\t(-2.820787e-07 2.268283e-07 -5.3...</td>\n",
       "    </tr>\n",
       "    <tr>\n",
       "      <th>4</th>\n",
       "      <td>1.000031e+00\\t(-2.817884e-07 2.263029e-07 -5.3...</td>\n",
       "    </tr>\n",
       "    <tr>\n",
       "      <th>5</th>\n",
       "      <td>1.000037e+00\\t(-2.815067e-07 2.255225e-07 -5.3...</td>\n",
       "    </tr>\n",
       "    <tr>\n",
       "      <th>6</th>\n",
       "      <td>1.000043e+00\\t(-2.811281e-07 2.248820e-07 -5.3...</td>\n",
       "    </tr>\n",
       "    <tr>\n",
       "      <th>7</th>\n",
       "      <td>1.000049e+00\\t(-2.806662e-07 2.241461e-07 -5.3...</td>\n",
       "    </tr>\n",
       "    <tr>\n",
       "      <th>8</th>\n",
       "      <td>1.000055e+00\\t(-2.803303e-07 2.236794e-07 -5.3...</td>\n",
       "    </tr>\n",
       "    <tr>\n",
       "      <th>9</th>\n",
       "      <td>1.000062e+00\\t(-2.800052e-07 2.233067e-07 -5.3...</td>\n",
       "    </tr>\n",
       "    <tr>\n",
       "      <th>10</th>\n",
       "      <td>1.000068e+00\\t(-2.796812e-07 2.229640e-07 -5.3...</td>\n",
       "    </tr>\n",
       "    <tr>\n",
       "      <th>11</th>\n",
       "      <td>1.000074e+00\\t(-2.796079e-07 2.229329e-07 -5.3...</td>\n",
       "    </tr>\n",
       "    <tr>\n",
       "      <th>12</th>\n",
       "      <td>1.000080e+00\\t(-2.793969e-07 2.226984e-07 -5.3...</td>\n",
       "    </tr>\n",
       "    <tr>\n",
       "      <th>13</th>\n",
       "      <td>1.000086e+00\\t(-2.789224e-07 2.221993e-07 -5.3...</td>\n",
       "    </tr>\n",
       "    <tr>\n",
       "      <th>14</th>\n",
       "      <td>1.000092e+00\\t(-2.783200e-07 2.215730e-07 -5.3...</td>\n",
       "    </tr>\n",
       "    <tr>\n",
       "      <th>15</th>\n",
       "      <td>1.000099e+00\\t(-2.777805e-07 2.209008e-07 -5.3...</td>\n",
       "    </tr>\n",
       "    <tr>\n",
       "      <th>16</th>\n",
       "      <td>1.000105e+00\\t(-2.773738e-07 2.202259e-07 -6.3...</td>\n",
       "    </tr>\n",
       "    <tr>\n",
       "      <th>17</th>\n",
       "      <td>1.000111e+00\\t(-2.769027e-07 2.194617e-07 -6.3...</td>\n",
       "    </tr>\n",
       "    <tr>\n",
       "      <th>18</th>\n",
       "      <td>1.000117e+00\\t(-2.763730e-07 2.185080e-07 -6.2...</td>\n",
       "    </tr>\n",
       "    <tr>\n",
       "      <th>19</th>\n",
       "      <td>1.000123e+00\\t(-2.764219e-07 2.182482e-07 -6.2...</td>\n",
       "    </tr>\n",
       "    <tr>\n",
       "      <th>20</th>\n",
       "      <td>1.000129e+00\\t(-2.763450e-07 2.179205e-07 -6.2...</td>\n",
       "    </tr>\n",
       "    <tr>\n",
       "      <th>21</th>\n",
       "      <td>1.000136e+00\\t(-2.760994e-07 2.173237e-07 -6.2...</td>\n",
       "    </tr>\n",
       "    <tr>\n",
       "      <th>22</th>\n",
       "      <td>1.000142e+00\\t(-2.759709e-07 2.168152e-07 -6.2...</td>\n",
       "    </tr>\n",
       "    <tr>\n",
       "      <th>23</th>\n",
       "      <td>1.000148e+00\\t(-2.758344e-07 2.162246e-07 -6.2...</td>\n",
       "    </tr>\n",
       "    <tr>\n",
       "      <th>24</th>\n",
       "      <td>1.000154e+00\\t(-2.759323e-07 2.159397e-07 -6.2...</td>\n",
       "    </tr>\n",
       "    <tr>\n",
       "      <th>25</th>\n",
       "      <td>1.000160e+00\\t(-2.759351e-07 2.155095e-07 -6.2...</td>\n",
       "    </tr>\n",
       "    <tr>\n",
       "      <th>26</th>\n",
       "      <td>1.000166e+00\\t(-2.759145e-07 2.150091e-07 -6.2...</td>\n",
       "    </tr>\n",
       "    <tr>\n",
       "      <th>27</th>\n",
       "      <td>1.000173e+00\\t(-2.757557e-07 2.143960e-07 -6.2...</td>\n",
       "    </tr>\n",
       "    <tr>\n",
       "      <th>28</th>\n",
       "      <td>1.000179e+00\\t(-2.755771e-07 2.138176e-07 -6.2...</td>\n",
       "    </tr>\n",
       "    <tr>\n",
       "      <th>29</th>\n",
       "      <td>1.000185e+00\\t(-2.754608e-07 2.133297e-07 -6.2...</td>\n",
       "    </tr>\n",
       "    <tr>\n",
       "      <th>...</th>\n",
       "      <td>...</td>\n",
       "    </tr>\n",
       "    <tr>\n",
       "      <th>66213</th>\n",
       "      <td>1.436589e+00\\t(-2.681620e-07 9.913691e-08 -4.8...</td>\n",
       "    </tr>\n",
       "    <tr>\n",
       "      <th>66214</th>\n",
       "      <td>1.436595e+00\\t(-2.688244e-07 9.957455e-08 -4.8...</td>\n",
       "    </tr>\n",
       "    <tr>\n",
       "      <th>66215</th>\n",
       "      <td>1.436601e+00\\t(-2.694428e-07 9.997379e-08 -4.8...</td>\n",
       "    </tr>\n",
       "    <tr>\n",
       "      <th>66216</th>\n",
       "      <td>1.436608e+00\\t(-2.700817e-07 1.003525e-07 -4.8...</td>\n",
       "    </tr>\n",
       "    <tr>\n",
       "      <th>66217</th>\n",
       "      <td>1.436614e+00\\t(-2.707286e-07 1.007538e-07 -4.8...</td>\n",
       "    </tr>\n",
       "    <tr>\n",
       "      <th>66218</th>\n",
       "      <td>1.436620e+00\\t(-2.713406e-07 1.011327e-07 -4.8...</td>\n",
       "    </tr>\n",
       "    <tr>\n",
       "      <th>66219</th>\n",
       "      <td>1.436626e+00\\t(-2.719242e-07 1.014558e-07 -4.8...</td>\n",
       "    </tr>\n",
       "    <tr>\n",
       "      <th>66220</th>\n",
       "      <td>1.436633e+00\\t(-2.725173e-07 1.017600e-07 -4.8...</td>\n",
       "    </tr>\n",
       "    <tr>\n",
       "      <th>66221</th>\n",
       "      <td>1.436639e+00\\t(-2.731195e-07 1.020546e-07 -4.8...</td>\n",
       "    </tr>\n",
       "    <tr>\n",
       "      <th>66222</th>\n",
       "      <td>1.436645e+00\\t(-2.737368e-07 1.023577e-07 -4.8...</td>\n",
       "    </tr>\n",
       "    <tr>\n",
       "      <th>66223</th>\n",
       "      <td>1.436652e+00\\t(-2.744128e-07 1.026989e-07 -4.8...</td>\n",
       "    </tr>\n",
       "    <tr>\n",
       "      <th>66224</th>\n",
       "      <td>1.436658e+00\\t(-2.751440e-07 1.030479e-07 -4.8...</td>\n",
       "    </tr>\n",
       "    <tr>\n",
       "      <th>66225</th>\n",
       "      <td>1.436664e+00\\t(-2.758974e-07 1.034006e-07 -4.8...</td>\n",
       "    </tr>\n",
       "    <tr>\n",
       "      <th>66226</th>\n",
       "      <td>1.436670e+00\\t(-2.767723e-07 1.038122e-07 -4.8...</td>\n",
       "    </tr>\n",
       "    <tr>\n",
       "      <th>66227</th>\n",
       "      <td>1.436677e+00\\t(-2.776890e-07 1.042531e-07 -4.8...</td>\n",
       "    </tr>\n",
       "    <tr>\n",
       "      <th>66228</th>\n",
       "      <td>1.436683e+00\\t(-2.786403e-07 1.047015e-07 -4.8...</td>\n",
       "    </tr>\n",
       "    <tr>\n",
       "      <th>66229</th>\n",
       "      <td>1.436689e+00\\t(-2.796326e-07 1.051482e-07 -4.8...</td>\n",
       "    </tr>\n",
       "    <tr>\n",
       "      <th>66230</th>\n",
       "      <td>1.436696e+00\\t(-2.806349e-07 1.055911e-07 -4.8...</td>\n",
       "    </tr>\n",
       "    <tr>\n",
       "      <th>66231</th>\n",
       "      <td>1.436702e+00\\t(-2.816191e-07 1.060153e-07 -5.1...</td>\n",
       "    </tr>\n",
       "    <tr>\n",
       "      <th>66232</th>\n",
       "      <td>1.436708e+00\\t(-2.825874e-07 1.064170e-07 -5.6...</td>\n",
       "    </tr>\n",
       "    <tr>\n",
       "      <th>66233</th>\n",
       "      <td>1.436714e+00\\t(-2.835782e-07 1.068188e-07 -5.4...</td>\n",
       "    </tr>\n",
       "    <tr>\n",
       "      <th>66234</th>\n",
       "      <td>1.436721e+00\\t(-2.845859e-07 1.072281e-07 -5.4...</td>\n",
       "    </tr>\n",
       "    <tr>\n",
       "      <th>66235</th>\n",
       "      <td>1.436727e+00\\t(-2.856048e-07 1.075827e-07 -5.4...</td>\n",
       "    </tr>\n",
       "    <tr>\n",
       "      <th>66236</th>\n",
       "      <td>1.436733e+00\\t(-2.866014e-07 1.079216e-07 -5.4...</td>\n",
       "    </tr>\n",
       "    <tr>\n",
       "      <th>66237</th>\n",
       "      <td>1.436740e+00\\t(-2.875799e-07 1.082550e-07 -5.4...</td>\n",
       "    </tr>\n",
       "    <tr>\n",
       "      <th>66238</th>\n",
       "      <td>1.436746e+00\\t(-2.885021e-07 1.085656e-07 -5.4...</td>\n",
       "    </tr>\n",
       "    <tr>\n",
       "      <th>66239</th>\n",
       "      <td>1.436752e+00\\t(-2.894021e-07 1.088404e-07 -5.4...</td>\n",
       "    </tr>\n",
       "    <tr>\n",
       "      <th>66240</th>\n",
       "      <td>1.436759e+00\\t(-2.903090e-07 1.091472e-07 -5.4...</td>\n",
       "    </tr>\n",
       "    <tr>\n",
       "      <th>66241</th>\n",
       "      <td>1.436765e+00\\t(-2.911713e-07 1.095139e-07 -5.4...</td>\n",
       "    </tr>\n",
       "    <tr>\n",
       "      <th>66242</th>\n",
       "      <td>1.436771e+00\\t(-2.920414e-07 1.098956e-07 -5.4...</td>\n",
       "    </tr>\n",
       "  </tbody>\n",
       "</table>\n",
       "<p>66243 rows × 1 columns</p>\n",
       "</div>"
      ],
      "text/plain": [
       "      1.000000e+00\\t(-2.832621e-07 2.294410e-07 -5.339440e-05)\\t(0.000000e+00 0.000000e+00 -5.340638e-05)\\t(-2.832621e-07 2.294410e-07 1.197941e-08)\n",
       "0      1.000006e+00\\t(-2.828075e-07 2.288889e-07 -5.3...                                                                                            \n",
       "1      1.000012e+00\\t(-2.826530e-07 2.281649e-07 -5.3...                                                                                            \n",
       "2      1.000018e+00\\t(-2.823385e-07 2.277862e-07 -5.3...                                                                                            \n",
       "3      1.000025e+00\\t(-2.820787e-07 2.268283e-07 -5.3...                                                                                            \n",
       "4      1.000031e+00\\t(-2.817884e-07 2.263029e-07 -5.3...                                                                                            \n",
       "5      1.000037e+00\\t(-2.815067e-07 2.255225e-07 -5.3...                                                                                            \n",
       "6      1.000043e+00\\t(-2.811281e-07 2.248820e-07 -5.3...                                                                                            \n",
       "7      1.000049e+00\\t(-2.806662e-07 2.241461e-07 -5.3...                                                                                            \n",
       "8      1.000055e+00\\t(-2.803303e-07 2.236794e-07 -5.3...                                                                                            \n",
       "9      1.000062e+00\\t(-2.800052e-07 2.233067e-07 -5.3...                                                                                            \n",
       "10     1.000068e+00\\t(-2.796812e-07 2.229640e-07 -5.3...                                                                                            \n",
       "11     1.000074e+00\\t(-2.796079e-07 2.229329e-07 -5.3...                                                                                            \n",
       "12     1.000080e+00\\t(-2.793969e-07 2.226984e-07 -5.3...                                                                                            \n",
       "13     1.000086e+00\\t(-2.789224e-07 2.221993e-07 -5.3...                                                                                            \n",
       "14     1.000092e+00\\t(-2.783200e-07 2.215730e-07 -5.3...                                                                                            \n",
       "15     1.000099e+00\\t(-2.777805e-07 2.209008e-07 -5.3...                                                                                            \n",
       "16     1.000105e+00\\t(-2.773738e-07 2.202259e-07 -6.3...                                                                                            \n",
       "17     1.000111e+00\\t(-2.769027e-07 2.194617e-07 -6.3...                                                                                            \n",
       "18     1.000117e+00\\t(-2.763730e-07 2.185080e-07 -6.2...                                                                                            \n",
       "19     1.000123e+00\\t(-2.764219e-07 2.182482e-07 -6.2...                                                                                            \n",
       "20     1.000129e+00\\t(-2.763450e-07 2.179205e-07 -6.2...                                                                                            \n",
       "21     1.000136e+00\\t(-2.760994e-07 2.173237e-07 -6.2...                                                                                            \n",
       "22     1.000142e+00\\t(-2.759709e-07 2.168152e-07 -6.2...                                                                                            \n",
       "23     1.000148e+00\\t(-2.758344e-07 2.162246e-07 -6.2...                                                                                            \n",
       "24     1.000154e+00\\t(-2.759323e-07 2.159397e-07 -6.2...                                                                                            \n",
       "25     1.000160e+00\\t(-2.759351e-07 2.155095e-07 -6.2...                                                                                            \n",
       "26     1.000166e+00\\t(-2.759145e-07 2.150091e-07 -6.2...                                                                                            \n",
       "27     1.000173e+00\\t(-2.757557e-07 2.143960e-07 -6.2...                                                                                            \n",
       "28     1.000179e+00\\t(-2.755771e-07 2.138176e-07 -6.2...                                                                                            \n",
       "29     1.000185e+00\\t(-2.754608e-07 2.133297e-07 -6.2...                                                                                            \n",
       "...                                                  ...                                                                                            \n",
       "66213  1.436589e+00\\t(-2.681620e-07 9.913691e-08 -4.8...                                                                                            \n",
       "66214  1.436595e+00\\t(-2.688244e-07 9.957455e-08 -4.8...                                                                                            \n",
       "66215  1.436601e+00\\t(-2.694428e-07 9.997379e-08 -4.8...                                                                                            \n",
       "66216  1.436608e+00\\t(-2.700817e-07 1.003525e-07 -4.8...                                                                                            \n",
       "66217  1.436614e+00\\t(-2.707286e-07 1.007538e-07 -4.8...                                                                                            \n",
       "66218  1.436620e+00\\t(-2.713406e-07 1.011327e-07 -4.8...                                                                                            \n",
       "66219  1.436626e+00\\t(-2.719242e-07 1.014558e-07 -4.8...                                                                                            \n",
       "66220  1.436633e+00\\t(-2.725173e-07 1.017600e-07 -4.8...                                                                                            \n",
       "66221  1.436639e+00\\t(-2.731195e-07 1.020546e-07 -4.8...                                                                                            \n",
       "66222  1.436645e+00\\t(-2.737368e-07 1.023577e-07 -4.8...                                                                                            \n",
       "66223  1.436652e+00\\t(-2.744128e-07 1.026989e-07 -4.8...                                                                                            \n",
       "66224  1.436658e+00\\t(-2.751440e-07 1.030479e-07 -4.8...                                                                                            \n",
       "66225  1.436664e+00\\t(-2.758974e-07 1.034006e-07 -4.8...                                                                                            \n",
       "66226  1.436670e+00\\t(-2.767723e-07 1.038122e-07 -4.8...                                                                                            \n",
       "66227  1.436677e+00\\t(-2.776890e-07 1.042531e-07 -4.8...                                                                                            \n",
       "66228  1.436683e+00\\t(-2.786403e-07 1.047015e-07 -4.8...                                                                                            \n",
       "66229  1.436689e+00\\t(-2.796326e-07 1.051482e-07 -4.8...                                                                                            \n",
       "66230  1.436696e+00\\t(-2.806349e-07 1.055911e-07 -4.8...                                                                                            \n",
       "66231  1.436702e+00\\t(-2.816191e-07 1.060153e-07 -5.1...                                                                                            \n",
       "66232  1.436708e+00\\t(-2.825874e-07 1.064170e-07 -5.6...                                                                                            \n",
       "66233  1.436714e+00\\t(-2.835782e-07 1.068188e-07 -5.4...                                                                                            \n",
       "66234  1.436721e+00\\t(-2.845859e-07 1.072281e-07 -5.4...                                                                                            \n",
       "66235  1.436727e+00\\t(-2.856048e-07 1.075827e-07 -5.4...                                                                                            \n",
       "66236  1.436733e+00\\t(-2.866014e-07 1.079216e-07 -5.4...                                                                                            \n",
       "66237  1.436740e+00\\t(-2.875799e-07 1.082550e-07 -5.4...                                                                                            \n",
       "66238  1.436746e+00\\t(-2.885021e-07 1.085656e-07 -5.4...                                                                                            \n",
       "66239  1.436752e+00\\t(-2.894021e-07 1.088404e-07 -5.4...                                                                                            \n",
       "66240  1.436759e+00\\t(-2.903090e-07 1.091472e-07 -5.4...                                                                                            \n",
       "66241  1.436765e+00\\t(-2.911713e-07 1.095139e-07 -5.4...                                                                                            \n",
       "66242  1.436771e+00\\t(-2.920414e-07 1.098956e-07 -5.4...                                                                                            \n",
       "\n",
       "[66243 rows x 1 columns]"
      ]
     },
     "execution_count": 7,
     "metadata": {},
     "output_type": "execute_result"
    }
   ],
   "source": [
    "a"
   ]
  },
  {
   "cell_type": "code",
   "execution_count": 11,
   "metadata": {
    "collapsed": false
   },
   "outputs": [],
   "source": [
    "f = open(fname, 'r')"
   ]
  },
  {
   "cell_type": "code",
   "execution_count": 3,
   "metadata": {
    "collapsed": true
   },
   "outputs": [],
   "source": [
    "import re"
   ]
  },
  {
   "cell_type": "code",
   "execution_count": 14,
   "metadata": {
    "collapsed": false
   },
   "outputs": [
    {
     "data": {
      "text/plain": [
       "_io.TextIOWrapper"
      ]
     },
     "execution_count": 14,
     "metadata": {},
     "output_type": "execute_result"
    }
   ],
   "source": [
    "type(f)"
   ]
  },
  {
   "cell_type": "code",
   "execution_count": 34,
   "metadata": {
    "collapsed": true
   },
   "outputs": [],
   "source": [
    "line = f.readline().rstrip()"
   ]
  },
  {
   "cell_type": "code",
   "execution_count": 35,
   "metadata": {
    "collapsed": false
   },
   "outputs": [
    {
     "data": {
      "text/plain": [
       "'1.000006e+00\\t(-2.828075e-07 2.288889e-07 -5.337904e-05)\\t(0.000000e+00 0.000000e+00 -5.339159e-05)\\t(-2.828075e-07 2.288889e-07 1.254900e-08)'"
      ]
     },
     "execution_count": 35,
     "metadata": {},
     "output_type": "execute_result"
    }
   ],
   "source": [
    "line"
   ]
  },
  {
   "cell_type": "code",
   "execution_count": 36,
   "metadata": {
    "collapsed": false
   },
   "outputs": [],
   "source": [
    "line = re.split(r'[(|)|\\s]', line)"
   ]
  },
  {
   "cell_type": "code",
   "execution_count": 37,
   "metadata": {
    "collapsed": false
   },
   "outputs": [
    {
     "data": {
      "text/plain": [
       "['1.000006e+00',\n",
       " '',\n",
       " '-2.828075e-07',\n",
       " '2.288889e-07',\n",
       " '-5.337904e-05',\n",
       " '',\n",
       " '',\n",
       " '0.000000e+00',\n",
       " '0.000000e+00',\n",
       " '-5.339159e-05',\n",
       " '',\n",
       " '',\n",
       " '-2.828075e-07',\n",
       " '2.288889e-07',\n",
       " '1.254900e-08',\n",
       " '']"
      ]
     },
     "execution_count": 37,
     "metadata": {},
     "output_type": "execute_result"
    }
   ],
   "source": [
    "line"
   ]
  },
  {
   "cell_type": "code",
   "execution_count": 38,
   "metadata": {
    "collapsed": false
   },
   "outputs": [
    {
     "name": "stdout",
     "output_type": "stream",
     "text": [
      "True\n"
     ]
    }
   ],
   "source": [
    "print(line[1] == '')"
   ]
  },
  {
   "cell_type": "code",
   "execution_count": 39,
   "metadata": {
    "collapsed": true
   },
   "outputs": [],
   "source": [
    "while '' in line: line.remove('')"
   ]
  },
  {
   "cell_type": "code",
   "execution_count": 40,
   "metadata": {
    "collapsed": false
   },
   "outputs": [
    {
     "data": {
      "text/plain": [
       "['1.000006e+00',\n",
       " '-2.828075e-07',\n",
       " '2.288889e-07',\n",
       " '-5.337904e-05',\n",
       " '0.000000e+00',\n",
       " '0.000000e+00',\n",
       " '-5.339159e-05',\n",
       " '-2.828075e-07',\n",
       " '2.288889e-07',\n",
       " '1.254900e-08']"
      ]
     },
     "execution_count": 40,
     "metadata": {},
     "output_type": "execute_result"
    }
   ],
   "source": [
    "line"
   ]
  },
  {
   "cell_type": "code",
   "execution_count": 42,
   "metadata": {
    "collapsed": true
   },
   "outputs": [],
   "source": [
    "import numpy as np"
   ]
  },
  {
   "cell_type": "code",
   "execution_count": 62,
   "metadata": {
    "collapsed": true
   },
   "outputs": [],
   "source": [
    "def read_data_1(filePath, cols):\n",
    "    data = [[] for i in range(len(cols))]\n",
    "    #count = 0\n",
    "    with open(filePath) as f:\n",
    "        for line in f:\n",
    "            #count += 1\n",
    "            line = re.split(r'[(|)|\\s]', line)\n",
    "            \n",
    "            while '' in line:\n",
    "                line.remove('')\n",
    "            \n",
    "            try:\n",
    "                for i in range( len(cols) ):\n",
    "                    data[i].append( float(line[cols[i] - 1]) )\n",
    "            except:\n",
    "                continue\n",
    "                \n",
    "    return np.array(data)"
   ]
  },
  {
   "cell_type": "code",
   "execution_count": 63,
   "metadata": {
    "collapsed": true
   },
   "outputs": [],
   "source": [
    "data = read_data_1(fname, [1, 7])"
   ]
  },
  {
   "cell_type": "code",
   "execution_count": 64,
   "metadata": {
    "collapsed": false
   },
   "outputs": [
    {
     "data": {
      "text/plain": [
       "(2, 66244)"
      ]
     },
     "execution_count": 64,
     "metadata": {},
     "output_type": "execute_result"
    }
   ],
   "source": [
    "data.shape"
   ]
  },
  {
   "cell_type": "code",
   "execution_count": 65,
   "metadata": {
    "collapsed": false
   },
   "outputs": [],
   "source": [
    "data = data.T"
   ]
  },
  {
   "cell_type": "code",
   "execution_count": 66,
   "metadata": {
    "collapsed": false
   },
   "outputs": [
    {
     "data": {
      "text/plain": [
       "array([  1.00000000e+00,  -5.34063800e-05])"
      ]
     },
     "execution_count": 66,
     "metadata": {},
     "output_type": "execute_result"
    }
   ],
   "source": [
    "data[0, :]"
   ]
  },
  {
   "cell_type": "code",
   "execution_count": 36,
   "metadata": {
    "collapsed": true
   },
   "outputs": [],
   "source": [
    "fname = '/hdd/work/wall-mounted-cube/hByDelta-0.6/medium-slip'\n",
    "fname = fname + '/postProcessing/force-left-side/0/force.dat'"
   ]
  },
  {
   "cell_type": "code",
   "execution_count": 37,
   "metadata": {
    "collapsed": true
   },
   "outputs": [],
   "source": [
    "line = fname.rstrip('')"
   ]
  },
  {
   "cell_type": "code",
   "execution_count": 38,
   "metadata": {
    "collapsed": false
   },
   "outputs": [
    {
     "data": {
      "text/plain": [
       "'/hdd/work/wall-mounted-cube/hByDelta-0.6/medium-slip/postProcessing/force-left-side/0/force.dat'"
      ]
     },
     "execution_count": 38,
     "metadata": {},
     "output_type": "execute_result"
    }
   ],
   "source": [
    "line"
   ]
  },
  {
   "cell_type": "code",
   "execution_count": 41,
   "metadata": {
    "collapsed": true
   },
   "outputs": [],
   "source": [
    "line = re.split('[/]', fname)"
   ]
  },
  {
   "cell_type": "code",
   "execution_count": 42,
   "metadata": {
    "collapsed": false
   },
   "outputs": [
    {
     "data": {
      "text/plain": [
       "['',\n",
       " 'hdd',\n",
       " 'work',\n",
       " 'wall-mounted-cube',\n",
       " 'hByDelta-0.6',\n",
       " 'medium-slip',\n",
       " 'postProcessing',\n",
       " 'force-left-side',\n",
       " '0',\n",
       " 'force.dat']"
      ]
     },
     "execution_count": 42,
     "metadata": {},
     "output_type": "execute_result"
    }
   ],
   "source": [
    "line"
   ]
  },
  {
   "cell_type": "code",
   "execution_count": 30,
   "metadata": {
    "collapsed": false
   },
   "outputs": [],
   "source": [
    "del line[0]"
   ]
  },
  {
   "cell_type": "code",
   "execution_count": 31,
   "metadata": {
    "collapsed": false
   },
   "outputs": [
    {
     "data": {
      "text/plain": [
       "['hdd',\n",
       " 'work',\n",
       " 'wall-mounted-cube',\n",
       " 'hByDelta-0.6',\n",
       " 'medium-slip',\n",
       " 'postProcessing',\n",
       " 'force-left-side',\n",
       " '0',\n",
       " 'force.dat']"
      ]
     },
     "execution_count": 31,
     "metadata": {},
     "output_type": "execute_result"
    }
   ],
   "source": [
    "line"
   ]
  },
  {
   "cell_type": "code",
   "execution_count": 32,
   "metadata": {
    "collapsed": true
   },
   "outputs": [],
   "source": [
    "del line[-1]"
   ]
  },
  {
   "cell_type": "code",
   "execution_count": 33,
   "metadata": {
    "collapsed": false
   },
   "outputs": [
    {
     "data": {
      "text/plain": [
       "['hdd',\n",
       " 'work',\n",
       " 'wall-mounted-cube',\n",
       " 'hByDelta-0.6',\n",
       " 'medium-slip',\n",
       " 'postProcessing',\n",
       " 'force-left-side',\n",
       " '0']"
      ]
     },
     "execution_count": 33,
     "metadata": {},
     "output_type": "execute_result"
    }
   ],
   "source": [
    "line"
   ]
  },
  {
   "cell_type": "code",
   "execution_count": 34,
   "metadata": {
    "collapsed": true
   },
   "outputs": [],
   "source": [
    "newl = ''\n",
    "for word in line: newl = newl + '/' + word"
   ]
  },
  {
   "cell_type": "code",
   "execution_count": 35,
   "metadata": {
    "collapsed": false
   },
   "outputs": [
    {
     "data": {
      "text/plain": [
       "'/hdd/work/wall-mounted-cube/hByDelta-0.6/medium-slip/postProcessing/force-left-side/0'"
      ]
     },
     "execution_count": 35,
     "metadata": {},
     "output_type": "execute_result"
    }
   ],
   "source": [
    "newl"
   ]
  },
  {
   "cell_type": "code",
   "execution_count": 43,
   "metadata": {
    "collapsed": true
   },
   "outputs": [],
   "source": [
    "import numpy as np"
   ]
  },
  {
   "cell_type": "code",
   "execution_count": 44,
   "metadata": {
    "collapsed": true
   },
   "outputs": [],
   "source": [
    "a = np.array([1,2,3])"
   ]
  },
  {
   "cell_type": "code",
   "execution_count": 45,
   "metadata": {
    "collapsed": true
   },
   "outputs": [],
   "source": [
    "b = np.array([2,3,4])"
   ]
  },
  {
   "cell_type": "code",
   "execution_count": 50,
   "metadata": {
    "collapsed": false
   },
   "outputs": [],
   "source": [
    "c = np.array([a,b])"
   ]
  },
  {
   "cell_type": "code",
   "execution_count": 51,
   "metadata": {
    "collapsed": false
   },
   "outputs": [
    {
     "data": {
      "text/plain": [
       "array([[1, 2, 3],\n",
       "       [2, 3, 4]])"
      ]
     },
     "execution_count": 51,
     "metadata": {},
     "output_type": "execute_result"
    }
   ],
   "source": [
    "c"
   ]
  },
  {
   "cell_type": "code",
   "execution_count": 48,
   "metadata": {
    "collapsed": false
   },
   "outputs": [
    {
     "ename": "TypeError",
     "evalue": "list indices must be integers or slices, not tuple",
     "output_type": "error",
     "traceback": [
      "\u001b[0;31m---------------------------------------------------------------------------\u001b[0m",
      "\u001b[0;31mTypeError\u001b[0m                                 Traceback (most recent call last)",
      "\u001b[0;32m<ipython-input-48-33b616408f88>\u001b[0m in \u001b[0;36m<module>\u001b[0;34m()\u001b[0m\n\u001b[0;32m----> 1\u001b[0;31m \u001b[0mc\u001b[0m\u001b[0;34m[\u001b[0m\u001b[0;36m1\u001b[0m\u001b[0;34m,\u001b[0m\u001b[0;36m1\u001b[0m\u001b[0;34m]\u001b[0m\u001b[0;34m\u001b[0m\u001b[0m\n\u001b[0m",
      "\u001b[0;31mTypeError\u001b[0m: list indices must be integers or slices, not tuple"
     ]
    }
   ],
   "source": [
    "c[1,1]"
   ]
  },
  {
   "cell_type": "code",
   "execution_count": 52,
   "metadata": {
    "collapsed": true
   },
   "outputs": [],
   "source": [
    "from math import pi, exp\n"
   ]
  },
  {
   "cell_type": "code",
   "execution_count": 53,
   "metadata": {
    "collapsed": true
   },
   "outputs": [],
   "source": [
    "fname = '/hdd/work/wall-mounted-cube/hByDelta-0.6/medium-slip'\n",
    "fname = fname + '/postProcessing/force-left-side/0/k-vs-Fk.csv'"
   ]
  },
  {
   "cell_type": "code",
   "execution_count": 54,
   "metadata": {
    "collapsed": true
   },
   "outputs": [],
   "source": [
    "a = np.loadtxt(fname, delimiter=' ')"
   ]
  },
  {
   "cell_type": "code",
   "execution_count": 55,
   "metadata": {
    "collapsed": false
   },
   "outputs": [
    {
     "data": {
      "text/plain": [
       "(2, 22819)"
      ]
     },
     "execution_count": 55,
     "metadata": {},
     "output_type": "execute_result"
    }
   ],
   "source": [
    "a.shape"
   ]
  },
  {
   "cell_type": "code",
   "execution_count": 59,
   "metadata": {
    "collapsed": false
   },
   "outputs": [],
   "source": [
    "np.savetxt(fname, a, delimiter=',', fmt='%.3e', newline='\\n')"
   ]
  },
  {
   "cell_type": "code",
   "execution_count": null,
   "metadata": {
    "collapsed": true
   },
   "outputs": [],
   "source": []
  }
 ],
 "metadata": {
  "kernelspec": {
   "display_name": "Python [default]",
   "language": "python",
   "name": "python3"
  },
  "language_info": {
   "codemirror_mode": {
    "name": "ipython",
    "version": 3
   },
   "file_extension": ".py",
   "mimetype": "text/x-python",
   "name": "python",
   "nbconvert_exporter": "python",
   "pygments_lexer": "ipython3",
   "version": "3.5.2"
  }
 },
 "nbformat": 4,
 "nbformat_minor": 2
}
